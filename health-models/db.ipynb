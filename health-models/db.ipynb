{
 "cells": [
  {
   "cell_type": "code",
   "execution_count": null,
   "id": "8c28afcc-dff4-4e75-af67-bae4a9760332",
   "metadata": {},
   "outputs": [],
   "source": [
    "import pandas as pd\n",
    "import numpy as np\n",
    "from sklearn.model_selection import train_test_split\n",
    "from sklearn.linear_model import LogisticRegression"
   ]
  },
  {
   "cell_type": "code",
   "execution_count": null,
   "id": "3af419ea-261a-4c54-9196-9183404bcd2c",
   "metadata": {},
   "outputs": [],
   "source": [
    "def get_user_input():\n",
    "    pregnancies = input(\"Enter the number of pregnancies: \")\n",
    "    glucose = input(\"Enter the glucose level: \")\n",
    "    bloodpressure = input(\"Enter the blood pressure: \")\n",
    "    skinthickness = input(\"Enter the skin thickness: \")\n",
    "    insulin = input(\"Enter the insulin level: \")\n",
    "    bmi_dia = input(\"Enter the BMI: \")\n",
    "    diabetes_pedigree_fnc = input(\"Enter the diabetes pedigree function: \")\n",
    "    age_dia = input(\"Enter the age: \")\n",
    "    return pregnancies, glucose, bloodpressure, skinthickness, insulin, bmi_dia, diabetes_pedigree_fnc, age_dia"
   ]
  },
  {
   "cell_type": "code",
   "execution_count": null,
   "id": "9cae73b9-1cfc-4020-aec8-bb7fe46a3aae",
   "metadata": {},
   "outputs": [],
   "source": [
    "def diaml(pregnancies, glucose, bloodpressure, skinthickness, insulin, bmi_dia, diabetes_pedigree_fnc, age_dia):\n",
    "    db = pd.read_csv(\"db.csv\", sep=\",\")\n",
    "    S = db[db.Outcome == 0]\n",
    "    NS = db[db.Outcome == 1]\n",
    "    S_sample = S.sample(n=232)\n",
    "    nds = pd.concat([S, NS], axis=0)\n",
    "    X = nds.drop(columns='Outcome', axis=1)\n",
    "    Y = nds['Outcome']\n",
    "    X_train, X_test, Y_train, Y_test = train_test_split(X, Y, test_size=0.25, stratify=Y, random_state=0)\n",
    "    model = LogisticRegression()\n",
    "    model.fit(X_train, Y_train)\n",
    "    pregnancies, glucose, bloodpressure, skinthickness, insulin, bmi_dia, diabetes_pedigree_fnc, age_dia = get_user_input()\n",
    "    input_data = (float(pregnancies), float(glucose), float(bloodpressure), float(skinthickness), float(insulin),\n",
    "                  float(bmi_dia), float(diabetes_pedigree_fnc), float(age_dia))\n",
    "    input_data_as_numpy_array = np.asarray(input_data)\n",
    "    input_data_reshaped = input_data_as_numpy_array.reshape(1, -1)\n",
    "    prediction = model.predict(input_data_reshaped)\n",
    "    if prediction[0] == 0:\n",
    "        return \"NOT AT RISK\"\n",
    "    else:\n",
    "        return \"AT RISK\""
   ]
  },
  {
   "cell_type": "code",
   "execution_count": null,
   "id": "aaf5afd0-43d5-4b49-98cf-2bd8ec1db639",
   "metadata": {},
   "outputs": [],
   "source": [
    "result = diaml(None, None, None, None, None, None, None, None)\n",
    "print(result)"
   ]
  },
  {
   "cell_type": "code",
   "execution_count": null,
   "id": "74046075-62c3-49b0-87a3-4bd90ef93c13",
   "metadata": {},
   "outputs": [],
   "source": []
  },
  {
   "cell_type": "code",
   "execution_count": null,
   "id": "c7b1d8c1-cd08-4515-89b7-854e2594efc0",
   "metadata": {},
   "outputs": [],
   "source": []
  }
 ],
 "metadata": {
  "kernelspec": {
   "display_name": "Python 3 (ipykernel)",
   "language": "python",
   "name": "python3"
  },
  "language_info": {
   "codemirror_mode": {
    "name": "ipython",
    "version": 3
   },
   "file_extension": ".py",
   "mimetype": "text/x-python",
   "name": "python",
   "nbconvert_exporter": "python",
   "pygments_lexer": "ipython3",
   "version": "3.12.2"
  }
 },
 "nbformat": 4,
 "nbformat_minor": 5
}
