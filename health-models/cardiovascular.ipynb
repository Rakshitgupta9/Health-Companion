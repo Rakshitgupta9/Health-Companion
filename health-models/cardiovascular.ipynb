{
 "cells": [
  {
   "cell_type": "code",
   "execution_count": 5,
   "id": "b7ed7e00-bd9c-4edf-974e-7fb20b1f64ae",
   "metadata": {},
   "outputs": [],
   "source": [
    "import pandas as pd\n",
    "import numpy as np\n",
    "from sklearn.model_selection import train_test_split\n",
    "from sklearn.linear_model import LogisticRegression"
   ]
  },
  {
   "cell_type": "code",
   "execution_count": 6,
   "id": "81dfebee-d046-4a16-b8c8-64aabf723816",
   "metadata": {},
   "outputs": [],
   "source": [
    "def get_user_input_cardio():\n",
    "    age1 = input(\"Enter age: \")\n",
    "    gender1 = input(\"Enter gender (0 for female, 1 for male): \")\n",
    "    height = input(\"Enter height: \")\n",
    "    weight = input(\"Enter weight: \")\n",
    "    ap_hi = input(\"Enter systolic blood pressure: \")\n",
    "    ap_lo = input(\"Enter diastolic blood pressure: \")\n",
    "    cholesterol = input(\"Enter cholesterol level: \")\n",
    "    glu = input(\"Enter glucose level: \")\n",
    "    smoke = input(\"Enter smoking status (0 for non-smoker, 1 for smoker): \")\n",
    "    alco = input(\"Enter alcohol consumption (0 for non-drinker, 1 for drinker): \")\n",
    "    active = input(\"Enter physical activity level (0 for inactive, 1 for active): \")\n",
    "    return age1, gender1, height, weight, ap_hi, ap_lo, cholesterol, glu, smoke, alco, active\n"
   ]
  },
  {
   "cell_type": "code",
   "execution_count": 7,
   "id": "f79b62b2-2b6c-484a-acf9-f2c2e67065e9",
   "metadata": {},
   "outputs": [],
   "source": [
    "def cardiovascularml(age1, gender1, height, weight, ap_hi, ap_lo, cholesterol, glu, smoke, alco, active):\n",
    "    heart_data = pd.read_csv(\"cardiov.csv\", sep=\";\")\n",
    "    S = heart_data[heart_data.CARDIO_DISEASE == 0]\n",
    "    NS = heart_data[heart_data.CARDIO_DISEASE == 1]\n",
    "    \n",
    "    nds = pd.concat([S, NS], axis=0)\n",
    "\n",
    "    nds['CARDIO_DISEASE'].value_counts()\n",
    "\n",
    "    X = nds.drop(columns='CARDIO_DISEASE', axis=1)\n",
    "    Y = nds['CARDIO_DISEASE']\n",
    "\n",
    "    X_train, X_test, Y_train, Y_test = train_test_split(X, Y, test_size=0.25, stratify=Y, random_state=0)\n",
    "\n",
    "    model = LogisticRegression()\n",
    "    model.fit(X_train, Y_train)\n",
    "\n",
    "    input_data = (float(age1), float(gender1), float(height), float(weight), float(ap_hi), float(ap_lo), float(cholesterol), float(glu), float(smoke), float(alco), float(active))\n",
    "\n",
    "    input_data_as_numpy_array = np.asarray(input_data)\n",
    "\n",
    "    input_data_reshaped = input_data_as_numpy_array.reshape(1, -1)\n",
    "    prediction = model.predict(input_data_reshaped)\n",
    "\n",
    "    if prediction[0] == 0:\n",
    "        return \"NOT AT RISK\"\n",
    "    else:\n",
    "        return \"AT RISK\""
   ]
  },
  {
   "cell_type": "code",
   "execution_count": 8,
   "id": "d303ee74-0c76-4290-b4a5-1b9be76368aa",
   "metadata": {},
   "outputs": [
    {
     "name": "stdin",
     "output_type": "stream",
     "text": [
      "Enter age:  69\n",
      "Enter gender (0 for female, 1 for male):  1\n",
      "Enter height:  170\n",
      "Enter weight:  90\n",
      "Enter systolic blood pressure:  180\n",
      "Enter diastolic blood pressure:  95\n",
      "Enter cholesterol level:  56\n",
      "Enter glucose level:  85\n",
      "Enter smoking status (0 for non-smoker, 1 for smoker):  1\n",
      "Enter alcohol consumption (0 for non-drinker, 1 for drinker):  1\n",
      "Enter physical activity level (0 for inactive, 1 for active):  1\n"
     ]
    },
    {
     "name": "stdout",
     "output_type": "stream",
     "text": [
      "AT RISK\n"
     ]
    },
    {
     "name": "stderr",
     "output_type": "stream",
     "text": [
      "C:\\Users\\RG-Lapi\\AppData\\Local\\Programs\\Python\\Python312\\Lib\\site-packages\\sklearn\\linear_model\\_logistic.py:469: ConvergenceWarning: lbfgs failed to converge (status=1):\n",
      "STOP: TOTAL NO. of ITERATIONS REACHED LIMIT.\n",
      "\n",
      "Increase the number of iterations (max_iter) or scale the data as shown in:\n",
      "    https://scikit-learn.org/stable/modules/preprocessing.html\n",
      "Please also refer to the documentation for alternative solver options:\n",
      "    https://scikit-learn.org/stable/modules/linear_model.html#logistic-regression\n",
      "  n_iter_i = _check_optimize_result(\n",
      "C:\\Users\\RG-Lapi\\AppData\\Local\\Programs\\Python\\Python312\\Lib\\site-packages\\sklearn\\base.py:493: UserWarning: X does not have valid feature names, but LogisticRegression was fitted with feature names\n",
      "  warnings.warn(\n"
     ]
    }
   ],
   "source": [
    "result = cardiovascularml(*get_user_input_cardio())\n",
    "print(result)"
   ]
  },
  {
   "cell_type": "code",
   "execution_count": null,
   "id": "54ae08a8-cf4d-4732-9f6d-4ee2dcec443d",
   "metadata": {},
   "outputs": [],
   "source": []
  }
 ],
 "metadata": {
  "kernelspec": {
   "display_name": "Python 3 (ipykernel)",
   "language": "python",
   "name": "python3"
  },
  "language_info": {
   "codemirror_mode": {
    "name": "ipython",
    "version": 3
   },
   "file_extension": ".py",
   "mimetype": "text/x-python",
   "name": "python",
   "nbconvert_exporter": "python",
   "pygments_lexer": "ipython3",
   "version": "3.12.2"
  }
 },
 "nbformat": 4,
 "nbformat_minor": 5
}
